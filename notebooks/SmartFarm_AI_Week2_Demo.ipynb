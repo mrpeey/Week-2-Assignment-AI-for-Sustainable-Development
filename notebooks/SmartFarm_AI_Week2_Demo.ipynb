{
 "cells": [
  {
   "cell_type": "markdown",
   "id": "2727869e",
   "metadata": {},
   "source": [
    "# SmartFarm AI – Week 2 Concepts Demo\n",
    "\n",
    "Theme: Machine Learning Meets the UN Sustainable Development Goals (SDGs)\\n\\n\n",
    "SDG Focus: SDG 2 – Zero Hunger\n",
    "\n",
    "This notebook demonstrates Week 2 ML concepts using lightweight, synthetic data:\n",
    "- Supervised Learning (CNN preview) – crop disease detection\n",
    "- Unsupervised Learning – KMeans clustering on synthetic NDVI features\n",
    "- Neural Networks – yield prediction (ensemble + dense NN)\n",
    "- Reinforcement Learning – smart irrigation short rollout\n",
    "- NLP – sentiment analysis (transformers/TextBlob fallback)\n",
    "\n",
    "Note: All heavy steps are guarded with try/except and will skip gracefully if optional dependencies are missing."
   ]
  },
  {
   "cell_type": "markdown",
   "id": "6c6a2ec5",
   "metadata": {},
   "source": [
    "## 1) Supervised Learning (CNN preview)"
   ]
  },
  {
   "cell_type": "code",
   "execution_count": null,
   "id": "2601da20",
   "metadata": {},
   "outputs": [],
   "source": [
    "try:\n",
    "    from src.crop_disease_detection import CropDiseaseDetector\n",
    "    import numpy as np\n",
    "    detector = CropDiseaseDetector()\n",
    "    model = detector.build_model()\n",
    "    print(f'CNN model built with {model.count_params():,} parameters')\n",
    "    # Dummy inference on a random image-like array\n",
    "    dummy = (np.random.rand(224, 224, 3) * 255).astype('uint8')\n",
    "    x = np.expand_dims(dummy / 255.0, axis=0)\n",
    "    y = model.predict(x, verbose=0)\n",
    "    print('Dummy prediction vector (sum=1):', np.round(y[0], 3))\n",
    "except Exception as e:\n",
    "    print('CNN preview skipped (install TensorFlow to enable). Reason:', e)"
   ]
  },
  {
   "cell_type": "markdown",
   "id": "067acdda",
   "metadata": {},
   "source": [
    "## 2) Unsupervised Learning – KMeans clustering of NDVI features"
   ]
  },
  {
   "cell_type": "code",
   "execution_count": null,
   "id": "55053859",
   "metadata": {},
   "outputs": [],
   "source": [
    "import numpy as np\n",
    "import matplotlib.pyplot as plt\n",
    "from sklearn.cluster import KMeans\n",
    "from sklearn.preprocessing import StandardScaler\n",
    "np.random.seed(42)\n",
    "ndvi_avg = np.random.beta(2, 1, 300) * 0.8 + 0.2\n",
    "ndvi_var = np.random.rand(300) * 0.05\n",
    "lai = np.random.exponential(2, 300)\n",
    "X = np.vstack([ndvi_avg, ndvi_var, lai]).T\n",
    "scaler = StandardScaler()\n",
    "X_scaled = scaler.fit_transform(X)\n",
    "kmeans = KMeans(n_clusters=3, random_state=42, n_init=10)\n",
    "labels = kmeans.fit_predict(X_scaled)\n",
    "plt.figure(figsize=(7,4))\n",
    "plt.scatter(ndvi_avg, lai, c=labels, cmap='viridis', alpha=0.7)\n",
    "plt.xlabel('NDVI Avg'); plt.ylabel('LAI'); plt.title('KMeans clusters (NDVI vs LAI)');\n",
    "plt.show()"
   ]
  },
  {
   "cell_type": "markdown",
   "id": "e46cad5d",
   "metadata": {},
   "source": [
    "## 3) Neural Networks – Yield prediction (synthetic data)"
   ]
  },
  {
   "cell_type": "code",
   "execution_count": null,
   "id": "125d66b6",
   "metadata": {},
   "outputs": [],
   "source": [
    "try:\n",
    "    from src.yield_prediction import YieldPredictionSystem\n",
    "    ys = YieldPredictionSystem()\n",
    "    data = ys.create_synthetic_data(n_samples=1000)\n",
    "    results, _ = ys.train_ensemble(data)\n",
    "    print('Model results (RMSE):', {k: round(v['rmse'], 3) for k, v in results.items()})\n",
    "except Exception as e:\n",
    "    print('Yield prediction demo skipped (install scikit-learn/TF/XGBoost/LightGBM to enable). Reason:', e)"
   ]
  },
  {
   "cell_type": "markdown",
   "id": "dc1282e3",
   "metadata": {},
   "source": [
    "## 4) Reinforcement Learning – Smart irrigation (short rollout)"
   ]
  },
  {
   "cell_type": "code",
   "execution_count": null,
   "id": "5f7010f1",
   "metadata": {},
   "outputs": [],
   "source": [
    "try:\n",
    "    import numpy as np\n",
    "    from src.smart_irrigation import IrrigationEnvironment\n",
    "    env = IrrigationEnvironment()\n",
    "    state = env.reset()\n",
    "    rewards = []\n",
    "    for _ in range(5):\n",
    "        action = np.array([np.random.uniform(0, 20)], dtype=np.float32)\n",
    "        next_state, reward, done, info = env.step(action)\n",
    "        rewards.append(reward)\n",
    "        state = next_state\n",
    "    print('5-step random policy rewards:', np.round(rewards, 2))\n",
    "except Exception as e:\n",
    "    print('RL demo skipped (install gym dependencies to enable). Reason:', e)"
   ]
  },
  {
   "cell_type": "markdown",
   "id": "7432161a",
   "metadata": {},
   "source": [
    "## 5) NLP – Sentiment analysis demo (with graceful fallback)"
   ]
  },
  {
   "cell_type": "code",
   "execution_count": null,
   "id": "1fe208dd",
   "metadata": {},
   "outputs": [],
   "source": [
    "try:\n",
    "    from typing import List, Dict\n",
    "    from src.market_intelligence import MarketIntelligenceSystem\n",
    "    mis = MarketIntelligenceSystem()\n",
    "    headlines: List[str] = [\n",
    "        'Rice export demand surges amid global shortages',\n",
    "        'Monsoon rains decline; crop output may decrease',\n",
    "        'Government announces support price increase for wheat',\n",
    "        'Fertilizer costs drop as supply improves',\n",
    "        'Pest outbreak reported in northern region'\n",
    "    ]\n",
    "    sentiments: List[Dict] = mis.analyze_sentiment(headlines)\n",
    "    print('Headline sentiments (label, polarity):')\n",
    "    for s in sentiments:\n",
    "        print('-', s['label'], f\"{s['polarity']:+.2f}\", '::', s['text'])\n",
    "except Exception as e:\n",
    "    print('NLP demo skipped. Reason:', e)"
   ]
  },
  {
   "cell_type": "markdown",
   "id": "e8e29820",
   "metadata": {},
   "source": [
    "## 6) Impact & Metrics (illustrative)"
   ]
  },
  {
   "cell_type": "code",
   "execution_count": null,
   "id": "98bbed39",
   "metadata": {},
   "outputs": [],
   "source": [
    "import matplotlib.pyplot as plt\n",
    "metrics = {\n",
    "    'Yield Improvement (%)': 20,\n",
    "    'Water Savings (%)': 40,\n",
    "    'Income Increase (%)': 25,\n",
    "}\n",
    "plt.figure(figsize=(6,4))\n",
    "plt.bar(metrics.keys(), metrics.values(), color=['#4CAF50', '#2196F3', '#FF9800'])\n",
    "plt.ylim(0, 60)\n",
    "plt.title('Expected Impact Metrics')\n",
    "plt.show()"
   ]
  }
 ],
 "metadata": {
  "language_info": {
   "name": "python"
  }
 },
 "nbformat": 4,
 "nbformat_minor": 5
}
